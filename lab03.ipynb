{
 "cells": [
  {
   "cell_type": "code",
   "execution_count": 13,
   "metadata": {
    "collapsed": false
   },
   "outputs": [
    {
     "name": "stdout",
     "output_type": "stream",
     "text": [
      "-3.0 74.6667\n",
      "-2.9000000000000004 70.98\n",
      "-2.8000000000000003 67.3867\n",
      "-2.7 63.8867\n",
      "-2.6 60.48\n",
      "-2.5 57.1667\n",
      "-2.4000000000000004 53.9467\n",
      "-2.3000000000000003 50.82\n",
      "-2.2 47.7867\n",
      "-2.1 44.8467\n",
      "-2.0 42.0\n",
      "-1.9000000000000001 39.2467\n",
      "-1.8 36.5867\n",
      "-1.7000000000000002 34.02\n",
      "-1.6 31.5467\n",
      "-1.5 29.1667\n",
      "-1.4000000000000001 26.88\n",
      "-1.3 24.6867\n",
      "-1.2000000000000002 22.5867\n",
      "-1.1 20.58\n",
      "-1.0 18.6667\n",
      "-0.9 16.8467\n",
      "-0.8 15.12\n",
      "-0.7000000000000001 13.4867\n",
      "-0.6000000000000001 11.9467\n",
      "-0.5 10.5\n",
      "-0.4 9.14667\n",
      "-0.30000000000000004 7.88667\n",
      "-0.2 6.72\n",
      "-0.1 5.64667\n",
      "0.0 4.66667\n",
      "0.1 3.78\n",
      "0.2 2.98667\n",
      "0.30000000000000004 2.28667\n",
      "0.4 1.68\n",
      "0.5 1.16667\n",
      "0.6000000000000001 0.746667\n",
      "0.7000000000000001 0.42\n",
      "0.8 0.186667\n",
      "0.9 0.0466667\n",
      "1.0 0.0\n",
      "1.1 0.0466667\n",
      "1.2000000000000002 0.186667\n",
      "1.3 0.42\n",
      "1.4000000000000001 0.746666\n",
      "1.5 1.16667\n",
      "1.6 1.68\n",
      "1.7000000000000002 2.28667\n",
      "1.8 2.98667\n",
      "1.9000000000000001 3.78\n",
      "2.0 4.66667\n",
      "2.1 5.64667\n",
      "2.2 6.72\n",
      "2.3000000000000003 7.88667\n",
      "2.4000000000000004 9.14667\n",
      "2.5 10.5\n",
      "2.6 11.9467\n",
      "2.7 13.4867\n",
      "2.8000000000000003 15.12\n",
      "2.9000000000000004 16.8467\n",
      "3.0 18.6667\n",
      "3.1 20.58\n",
      "3.2 22.5867\n",
      "3.3000000000000003 24.6867\n",
      "3.4000000000000004 26.88\n",
      "3.5 29.1667\n",
      "3.6 31.5467\n",
      "3.7 34.02\n",
      "3.8000000000000003 36.5867\n",
      "3.9000000000000004 39.2467\n",
      "4.0 42.0\n",
      "4.1000000000000005 44.8467\n",
      "4.2 47.7867\n",
      "4.3 50.82\n",
      "4.4 53.9467\n",
      "4.5 57.1667\n",
      "4.6000000000000005 60.48\n",
      "4.7 63.8867\n",
      "4.800000000000001 67.3867\n",
      "4.9 70.98\n"
     ]
    },
    {
     "data": {
      "image/png": "[encoded data removed]",
      "text/plain": [
       "<matplotlib.figure.Figure at 0x10d84c1d0>"
      ]
     },
     "metadata": {},
     "output_type": "display_data"
    }
   ],
   "source": [
    "import tensorflow as tf\n",
    "\n",
    "X = [1., 2., 3.]\n",
    "Y = [1., 2., 3.]\n",
    "m = n_damples = len(X)\n",
    "\n",
    "W = tf.placeholder(tf.float32)\n",
    "\n",
    "hypothesis = tf.mul(X, W)\n",
    "\n",
    "cost = tf.reduce_sum(tf.pow(hypothesis - Y, 2))/(m)\n",
    "\n",
    "init = tf.global_variables_initializer()\n",
    "\n",
    "W_val = []\n",
    "cost_val = []\n",
    "\n",
    "sess = tf.Session()\n",
    "sess.run(init)\n",
    "for i in range(-30, 50):\n",
    "    print(i * 0.1, sess.run(cost, feed_dict={W: i * 0.1}))\n",
    "    W_val.append(i * 0.1)\n",
    "    cost_val.append(sess.run(cost, feed_dict={W: i * 0.1}))\n",
    "\n",
    "import matplotlib.pyplot as plt\n",
    "%matplotlib inline  \n",
    "\n",
    "plt.plot(W_val, cost_val, 'ro')\n",
    "plt.ylabel('Cost')\n",
    "plt.xlabel('W')\n",
    "plt.show()"
   ]
  },
  {
   "cell_type": "code",
   "execution_count": 15,
   "metadata": {
    "collapsed": false
   },
   "outputs": [
    {
     "name": "stdout",
     "output_type": "stream",
     "text": [
      "0 cost:12.0638, W:[ 2.60782671]\n",
      "1 cost:3.43149, W:[ 1.85750759]\n",
      "2 cost:0.976068, W:[ 1.45733738]\n",
      "3 cost:0.277637, W:[ 1.24391329]\n",
      "4 cost:0.0789724, W:[ 1.13008714]\n",
      "5 cost:0.0224633, W:[ 1.06937981]\n",
      "6 cost:0.00638955, W:[ 1.03700256]\n",
      "7 cost:0.00181748, W:[ 1.01973474]\n",
      "8 cost:0.000516975, W:[ 1.01052523]\n",
      "9 cost:0.000147052, W:[ 1.00561345]\n",
      "10 cost:4.18272e-05, W:[ 1.00299382]\n",
      "11 cost:1.18973e-05, W:[ 1.00159669]\n",
      "12 cost:3.38347e-06, W:[ 1.00085151]\n",
      "13 cost:9.62669e-07, W:[ 1.00045419]\n",
      "14 cost:2.73826e-07, W:[ 1.00024223]\n",
      "15 cost:7.79266e-08, W:[ 1.00012922]\n",
      "16 cost:2.21556e-08, W:[ 1.0000689]\n",
      "17 cost:6.29113e-09, W:[ 1.00003672]\n",
      "18 cost:1.78367e-09, W:[ 1.00001955]\n",
      "19 cost:4.99488e-10, W:[ 1.00001037]\n"
     ]
    }
   ],
   "source": [
    "x_data = [1., 2., 3.]\n",
    "y_data = [1., 2., 3.]\n",
    "\n",
    "W = tf.Variable(tf.random_uniform([1], -10.0, 10.0))\n",
    "\n",
    "X = tf.placeholder(tf.float32)\n",
    "Y = tf.placeholder(tf.float32)\n",
    "\n",
    "hypothesis = W * X\n",
    "\n",
    "cost = tf.reduce_mean(tf.square(hypothesis - Y))\n",
    "\n",
    "descent = W - tf.mul(0.1, tf.reduce_mean(tf.mul((tf.mul(W, X) - Y), X)))\n",
    "update = W.assign(descent)\n",
    "\n",
    "init = tf.global_variables_initializer()\n",
    "\n",
    "sess = tf.Session()\n",
    "sess.run(init)\n",
    "\n",
    "for step in range(20):\n",
    "    sess.run(update, feed_dict = {X:x_data, Y:y_data})\n",
    "    print(step, \"cost:%s, W:%s\"%(sess.run(cost, feed_dict={X:x_data, Y:y_data}), sess.run(W)))"
   ]
  },
  {
   "cell_type": "code",
   "execution_count": null,
   "metadata": {
    "collapsed": true
   },
   "outputs": [],
   "source": []
  }
 ],
 "metadata": {
  "kernelspec": {
   "display_name": "Python 3",
   "language": "python",
   "name": "python3"
  },
  "language_info": {
   "codemirror_mode": {
    "name": "ipython",
    "version": 3
   },
   "file_extension": ".py",
   "mimetype": "text/x-python",
   "name": "python",
   "nbconvert_exporter": "python",
   "pygments_lexer": "ipython3",
   "version": "3.5.2"
  }
 },
 "nbformat": 4,
 "nbformat_minor": 2
}
