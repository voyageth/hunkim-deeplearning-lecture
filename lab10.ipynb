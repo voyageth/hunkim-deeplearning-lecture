{
 "cells": [
  {
   "cell_type": "markdown",
   "metadata": {},
   "source": [
    "# Softmax classifier for MNIST"
   ]
  },
  {
   "cell_type": "code",
   "execution_count": 9,
   "metadata": {
    "collapsed": false
   },
   "outputs": [
    {
     "name": "stdout",
     "output_type": "stream",
     "text": [
      "Extracting ./temp/train-images-idx3-ubyte.gz\n",
      "Extracting ./temp/train-labels-idx1-ubyte.gz\n",
      "Extracting ./temp/t10k-images-idx3-ubyte.gz\n",
      "Extracting ./temp/t10k-labels-idx1-ubyte.gz\n",
      "Epoch: 0001 cost=2.045250855\n",
      "Epoch: 0002 cost=1.654373473\n",
      "Epoch: 0003 cost=1.394421362\n",
      "Epoch: 0004 cost=1.217129653\n",
      "Epoch: 0005 cost=1.091374159\n",
      "Epoch: 0006 cost=0.998377195\n",
      "Epoch: 0007 cost=0.927084551\n",
      "Epoch: 0008 cost=0.870697187\n",
      "Epoch: 0009 cost=0.824985170\n",
      "Epoch: 0010 cost=0.787093301\n",
      "Epoch: 0011 cost=0.755144416\n",
      "Epoch: 0012 cost=0.727797661\n",
      "Epoch: 0013 cost=0.704105795\n",
      "Epoch: 0014 cost=0.683336754\n",
      "Epoch: 0015 cost=0.664972968\n",
      "Epoch: 0016 cost=0.648585190\n",
      "Epoch: 0017 cost=0.633876724\n",
      "Epoch: 0018 cost=0.620566800\n",
      "Epoch: 0019 cost=0.608473213\n",
      "Epoch: 0020 cost=0.597412033\n",
      "Epoch: 0021 cost=0.587267760\n",
      "Epoch: 0022 cost=0.577902760\n",
      "Epoch: 0023 cost=0.569236569\n",
      "Epoch: 0024 cost=0.561190941\n",
      "Epoch: 0025 cost=0.553680450\n",
      "Optimization Finished!\n",
      "Accuracy : 0.8783\n"
     ]
    }
   ],
   "source": [
    "learning_rate=0.001\n",
    "training_epochs = 25\n",
    "batch_size = 100\n",
    "display_step = 1\n",
    "\n",
    "import tensorflow as tf\n",
    "import numpy as np\n",
    "\n",
    "from tensorflow.contrib.learn.python.learn.datasets.mnist import read_data_sets\n",
    "mnist = read_data_sets('./temp', one_hot=True)\n",
    "\n",
    "x = tf.placeholder('float', [None, 784])\n",
    "y = tf.placeholder('float', [None, 10])\n",
    "\n",
    "W = tf.Variable(tf.zeros([784, 10]))\n",
    "b = tf.Variable(tf.zeros([10]))\n",
    "\n",
    "activation = tf.nn.softmax(tf.matmul(x, W) + b)\n",
    "\n",
    "cost = tf.reduce_mean(-tf.reduce_sum(y * tf.log(activation), reduction_indices=1))\n",
    "optimizer = tf.train.GradientDescentOptimizer(learning_rate).minimize(cost)\n",
    "\n",
    "init = tf.global_variables_initializer()\n",
    "\n",
    "with tf.Session() as sess:\n",
    "    sess.run(init)\n",
    "\n",
    "    for epoch in range(training_epochs):\n",
    "        avg_cost = 0.\n",
    "        total_batch = int(mnist.train.num_examples / batch_size)\n",
    "        for i in range(total_batch):\n",
    "            batch_xs, batch_ys = mnist.train.next_batch(batch_size=batch_size)\n",
    "            sess.run(optimizer, feed_dict={x : batch_xs, y: batch_ys})\n",
    "            avg_cost += sess.run(cost, feed_dict={x : batch_xs, y: batch_ys}) / total_batch\n",
    "\n",
    "        if epoch % display_step == 0:\n",
    "            print('Epoch: %04d' % (epoch+1), 'cost={:.9f}'.format(avg_cost))\n",
    "\n",
    "    print('Optimization Finished!')\n",
    "    correct_prediction = tf.equal(tf.argmax(activation, 1), tf.argmax(y, 1))\n",
    "    accuracy = tf.reduce_mean(tf.cast(correct_prediction, 'float'))\n",
    "    print('Accuracy : %s' % accuracy.eval(session=sess, feed_dict={x:mnist.test.images, y:mnist.test.labels}))"
   ]
  },
  {
   "cell_type": "markdown",
   "metadata": {},
   "source": [
    "# Neural Nets (NN) for MNIST"
   ]
  },
  {
   "cell_type": "code",
   "execution_count": 16,
   "metadata": {
    "collapsed": false
   },
   "outputs": [
    {
     "name": "stdout",
     "output_type": "stream",
     "text": [
      "Extracting ./temp/train-images-idx3-ubyte.gz\n",
      "Extracting ./temp/train-labels-idx1-ubyte.gz\n",
      "Extracting ./temp/t10k-images-idx3-ubyte.gz\n",
      "Extracting ./temp/t10k-labels-idx1-ubyte.gz\n",
      "Epoch: 0001 cost=136.821157853\n",
      "Epoch: 0002 cost=37.627637234\n",
      "Epoch: 0003 cost=23.461442208\n",
      "Epoch: 0004 cost=15.888071711\n",
      "Epoch: 0005 cost=11.446959958\n",
      "Epoch: 0006 cost=8.292671882\n",
      "Epoch: 0007 cost=6.007738824\n",
      "Epoch: 0008 cost=4.439206658\n",
      "Epoch: 0009 cost=3.227183054\n",
      "Epoch: 0010 cost=2.356999698\n",
      "Epoch: 0011 cost=1.635249805\n",
      "Epoch: 0012 cost=1.170963789\n",
      "Epoch: 0013 cost=0.821572185\n",
      "Epoch: 0014 cost=0.642049178\n",
      "Epoch: 0015 cost=0.429705117\n",
      "Optimization Finished!\n",
      "Accuracy : 0.9419\n"
     ]
    }
   ],
   "source": [
    "with tf.Graph().as_default():\n",
    "    learning_rate=0.001\n",
    "    training_epochs = 15\n",
    "    batch_size = 100\n",
    "    display_step = 1\n",
    "\n",
    "    import tensorflow as tf\n",
    "    import numpy as np\n",
    "\n",
    "    from tensorflow.contrib.learn.python.learn.datasets.mnist import read_data_sets\n",
    "    mnist = read_data_sets('./temp', one_hot=True)\n",
    "\n",
    "    X = tf.placeholder('float', [None, 784])\n",
    "    Y = tf.placeholder('float', [None, 10])\n",
    "\n",
    "    W1 = tf.Variable(tf.random_normal([784, 256]))\n",
    "    W2 = tf.Variable(tf.random_normal([256, 256]))\n",
    "    W3 = tf.Variable(tf.random_normal([256, 10]))\n",
    "\n",
    "    B1 = tf.Variable(tf.random_normal([256]))\n",
    "    B2 = tf.Variable(tf.random_normal([256]))\n",
    "    B3 = tf.Variable(tf.random_normal([10]))\n",
    "\n",
    "    L1 = tf.nn.relu(tf.add(tf.matmul(X, W1), B1))\n",
    "    L2 = tf.nn.relu(tf.add(tf.matmul(L1, W2), B2))\n",
    "    hypothesis = tf.add(tf.matmul(L2, W3), B3)\n",
    "\n",
    "    cost = tf.reduce_mean(tf.nn.softmax_cross_entropy_with_logits(hypothesis, Y))\n",
    "    optimizer = tf.train.AdamOptimizer(learning_rate=learning_rate).minimize(cost)\n",
    "\n",
    "    init = tf.global_variables_initializer()\n",
    "\n",
    "    with tf.Session() as sess:\n",
    "        sess.run(init)\n",
    "\n",
    "        for epoch in range(training_epochs):\n",
    "            avg_cost = 0.\n",
    "            total_batch = int(mnist.train.num_examples / batch_size)\n",
    "            for i in range(total_batch):\n",
    "                batch_xs, batch_ys = mnist.train.next_batch(batch_size=batch_size)\n",
    "                sess.run(optimizer, feed_dict={X : batch_xs, Y: batch_ys})\n",
    "                avg_cost += sess.run(cost, feed_dict={X : batch_xs, Y: batch_ys}) / total_batch\n",
    "\n",
    "            if epoch % display_step == 0:\n",
    "                print('Epoch: %04d' % (epoch+1), 'cost={:.9f}'.format(avg_cost))\n",
    "\n",
    "        print('Optimization Finished!')\n",
    "        correct_prediction = tf.equal(tf.argmax(hypothesis, 1), tf.argmax(Y, 1))\n",
    "        accuracy = tf.reduce_mean(tf.cast(correct_prediction, 'float'))\n",
    "        print('Accuracy : %s' % accuracy.eval(session=sess, feed_dict={X:mnist.test.images, Y:mnist.test.labels}))"
   ]
  },
  {
   "cell_type": "markdown",
   "metadata": {},
   "source": [
    "# Xavier initialization"
   ]
  },
  {
   "cell_type": "code",
   "execution_count": 18,
   "metadata": {
    "collapsed": false
   },
   "outputs": [
    {
     "name": "stdout",
     "output_type": "stream",
     "text": [
      "Extracting ./temp/train-images-idx3-ubyte.gz\n",
      "Extracting ./temp/train-labels-idx1-ubyte.gz\n",
      "Extracting ./temp/t10k-images-idx3-ubyte.gz\n",
      "Extracting ./temp/t10k-labels-idx1-ubyte.gz\n",
      "Epoch: 0001 cost=0.304235923\n",
      "Epoch: 0002 cost=0.103180736\n",
      "Epoch: 0003 cost=0.063023096\n",
      "Epoch: 0004 cost=0.042144366\n",
      "Epoch: 0005 cost=0.029800192\n",
      "Epoch: 0006 cost=0.020896807\n",
      "Epoch: 0007 cost=0.015243090\n",
      "Epoch: 0008 cost=0.011750078\n",
      "Epoch: 0009 cost=0.008734125\n",
      "Epoch: 0010 cost=0.006937811\n",
      "Epoch: 0011 cost=0.006308306\n",
      "Epoch: 0012 cost=0.004163114\n",
      "Epoch: 0013 cost=0.004422476\n",
      "Epoch: 0014 cost=0.004337383\n",
      "Epoch: 0015 cost=0.003065298\n",
      "Optimization Finished!\n",
      "Accuracy : 0.9811\n"
     ]
    }
   ],
   "source": [
    "with tf.Graph().as_default():\n",
    "    learning_rate=0.001\n",
    "    training_epochs = 15\n",
    "    batch_size = 100\n",
    "    display_step = 1\n",
    "\n",
    "    import tensorflow as tf\n",
    "    import numpy as np\n",
    "\n",
    "    from tensorflow.contrib.learn.python.learn.datasets.mnist import read_data_sets\n",
    "    mnist = read_data_sets('./temp', one_hot=True)\n",
    "\n",
    "    X = tf.placeholder('float', [None, 784])\n",
    "    Y = tf.placeholder('float', [None, 10])\n",
    "\n",
    "    W1 = tf.get_variable(\"W1\", shape=[784, 256], initializer=tf.contrib.layers.xavier_initializer())\n",
    "    W2 = tf.get_variable(\"W2\", shape=[256, 256], initializer=tf.contrib.layers.xavier_initializer())\n",
    "    W3 = tf.get_variable(\"W3\", shape=[256, 10], initializer=tf.contrib.layers.xavier_initializer())\n",
    "\n",
    "    B1 = tf.Variable(tf.random_normal([256]))\n",
    "    B2 = tf.Variable(tf.random_normal([256]))\n",
    "    B3 = tf.Variable(tf.random_normal([10]))\n",
    "\n",
    "    L1 = tf.nn.relu(tf.add(tf.matmul(X, W1), B1))\n",
    "    L2 = tf.nn.relu(tf.add(tf.matmul(L1, W2), B2))\n",
    "    hypothesis = tf.add(tf.matmul(L2, W3), B3)\n",
    "\n",
    "    cost = tf.reduce_mean(tf.nn.softmax_cross_entropy_with_logits(hypothesis, Y))\n",
    "    optimizer = tf.train.AdamOptimizer(learning_rate=learning_rate).minimize(cost)\n",
    "\n",
    "    init = tf.global_variables_initializer()\n",
    "\n",
    "    with tf.Session() as sess:\n",
    "        sess.run(init)\n",
    "\n",
    "        for epoch in range(training_epochs):\n",
    "            avg_cost = 0.\n",
    "            total_batch = int(mnist.train.num_examples / batch_size)\n",
    "            for i in range(total_batch):\n",
    "                batch_xs, batch_ys = mnist.train.next_batch(batch_size=batch_size)\n",
    "                sess.run(optimizer, feed_dict={X : batch_xs, Y: batch_ys})\n",
    "                avg_cost += sess.run(cost, feed_dict={X : batch_xs, Y: batch_ys}) / total_batch\n",
    "\n",
    "            if epoch % display_step == 0:\n",
    "                print('Epoch: %04d' % (epoch+1), 'cost={:.9f}'.format(avg_cost))\n",
    "\n",
    "        print('Optimization Finished!')\n",
    "        correct_prediction = tf.equal(tf.argmax(hypothesis, 1), tf.argmax(Y, 1))\n",
    "        accuracy = tf.reduce_mean(tf.cast(correct_prediction, 'float'))\n",
    "        print('Accuracy : %s' % accuracy.eval(session=sess, feed_dict={X:mnist.test.images, Y:mnist.test.labels}))"
   ]
  },
  {
   "cell_type": "markdown",
   "metadata": {},
   "source": [
    "# More deep & dropout"
   ]
  },
  {
   "cell_type": "code",
   "execution_count": null,
   "metadata": {
    "collapsed": true
   },
   "outputs": [],
   "source": []
  }
 ],
 "metadata": {
  "kernelspec": {
   "display_name": "Python 3",
   "language": "python",
   "name": "python3"
  },
  "language_info": {
   "codemirror_mode": {
    "name": "ipython",
    "version": 3
   },
   "file_extension": ".py",
   "mimetype": "text/x-python",
   "name": "python",
   "nbconvert_exporter": "python",
   "pygments_lexer": "ipython3",
   "version": "3.5.2"
  }
 },
 "nbformat": 4,
 "nbformat_minor": 2
}
